{
 "cells": [
  {
   "cell_type": "code",
   "execution_count": 37,
   "metadata": {},
   "outputs": [],
   "source": [
    "# Importing the required libraries\n",
    "from indic_transliteration import sanscript\n",
    "from indic_transliteration.sanscript import SchemeMap, transliterate\n",
    "from ai4bharat.transliteration import XlitEngine"
   ]
  },
  {
   "cell_type": "code",
   "execution_count": 38,
   "metadata": {},
   "outputs": [],
   "source": [
    "# Mapping of language codes to scripts\n",
    "language_scripts = {\n",
    "  \"sa\": sanscript.DEVANAGARI,\n",
    "  \"ta\": sanscript.TAMIL,\n",
    "  \"ka\": sanscript.KANNADA,\n",
    "  \"te\": sanscript.TELUGU,\n",
    "  \"hi\": sanscript.DEVANAGARI,\n",
    "  \"ma\": sanscript.DEVANAGARI,\n",
    "  \"ne\": sanscript.DEVANAGARI,\n",
    "  \"kok\": sanscript.DEVANAGARI,\n",
    "  \"as\": sanscript.BENGALI,\n",
    "  \"ml\": sanscript.MALAYALAM,\n",
    "  \"bn\": sanscript.BENGALI,\n",
    "  \"gu\": sanscript.GUJARATI,\n",
    "  \"pa\": sanscript.GURMUKHI,\n",
    "  \"or\": sanscript.ORIYA\n",
    "}"
   ]
  },
  {
   "cell_type": "code",
   "execution_count": 55,
   "metadata": {},
   "outputs": [
    {
     "data": {
      "text/plain": [
       "'nidaa maidam vrhad shikshak hai unakee adhyaapan shailee saraahaneey\\xa0hai'"
      ]
     },
     "execution_count": 55,
     "metadata": {},
     "output_type": "execute_result"
    }
   ],
   "source": [
    "\n",
    "# Prompting user to enter input text\n",
    "input_text = input('Enter input text: ')\n",
    "input_text"
   ]
  },
  {
   "cell_type": "code",
   "execution_count": 56,
   "metadata": {},
   "outputs": [
    {
     "name": "stdout",
     "output_type": "stream",
     "text": [
      "Select a language:\n",
      "1. sa\n",
      "2. ta\n",
      "3. ka\n",
      "4. te\n",
      "5. hi\n",
      "6. ma\n",
      "7. ne\n",
      "8. kok\n",
      "9. as\n",
      "10. ml\n",
      "11. bn\n",
      "12. gu\n",
      "13. pa\n",
      "14. or\n",
      "Output: निदा मैदम् व्र्हद् शिक्शक् है उनकी अध्यापन् शैली सराहनीय् है\n"
     ]
    }
   ],
   "source": [
    "# Prompting user to select a language\n",
    "print('Select a language:')\n",
    "for i, lang in enumerate(language_scripts):\n",
    "    print(f'{i + 1}. {lang}')\n",
    "\n",
    "selected_language = int(input('Enter choice (1-10): '))\n",
    "language_code = list(language_scripts.keys())[selected_language - 1]\n",
    "output_script = language_scripts[language_code]\n",
    "# Transliterating the input text using IndicTrans\n",
    "output_text = transliterate(input_text, sanscript.ITRANS, sanscript.DEVANAGARI)\n",
    "# Transliterating the input text to the selected language script\n",
    "output_text = transliterate(input_text, sanscript.ITRANS,output_script )\n",
    "\n",
    "# Displaying the output text\n",
    "print('Output:', output_text)"
   ]
  },
  {
   "cell_type": "code",
   "execution_count": 2,
   "metadata": {},
   "outputs": [],
   "source": [
    "# Creating a dictionary of supported languages and their codes\n",
    "languages = {\n",
    "    'Hindi': 'hi',\n",
    "    'Bengali': 'bn',\n",
    "    'Gujarati': 'gu',\n",
    "    'Kannada': 'kn',\n",
    "    'Malayalam': 'ml',\n",
    "    'Marathi': 'mr',\n",
    "    'Odia': 'or',\n",
    "    'Punjabi': 'pa',\n",
    "    'Tamil': 'ta',\n",
    "    'Telugu': 'te'\n",
    "}"
   ]
  },
  {
   "cell_type": "code",
   "execution_count": 5,
   "metadata": {},
   "outputs": [
    {
     "data": {
      "text/plain": [
       "'nida mam bruhad shikshika hai unki adhyapan shaili sarahniy hai'"
      ]
     },
     "execution_count": 5,
     "metadata": {},
     "output_type": "execute_result"
    }
   ],
   "source": [
    "# Getting user input\n",
    "input_text = input('Enter text: ')\n",
    "input_text"
   ]
  },
  {
   "cell_type": "code",
   "execution_count": 6,
   "metadata": {},
   "outputs": [
    {
     "name": "stdout",
     "output_type": "stream",
     "text": [
      "Select a transliteration library:\n",
      "1. IndicTrans\n",
      "2. ai4bharat\n",
      "Select a language:\n",
      "1. Hindi\n",
      "2. Bengali\n",
      "3. Gujarati\n",
      "4. Kannada\n",
      "5. Malayalam\n",
      "6. Marathi\n",
      "7. Odia\n",
      "8. Punjabi\n",
      "9. Tamil\n",
      "10. Telugu\n",
      "Output: निद मम् ब्रुहद् शिक्शिक है उन्कि अध्यपन् शैलि सरह्निय् है\n"
     ]
    }
   ],
   "source": [
    "\n",
    "# Prompting user to select a transliteration library\n",
    "print('Select a transliteration library:')\n",
    "print('1. IndicTrans')\n",
    "print('2. ai4bharat')\n",
    "\n",
    "selected_library = int(input('Enter choice (1 or 2): '))\n",
    "\n",
    "if selected_library == 1:\n",
    "    # Prompting user to select a language\n",
    "    print('Select a language:')\n",
    "    for i, lang in enumerate(languages):\n",
    "        print(f'{i + 1}. {lang}')\n",
    "\n",
    "    selected_language = int(input('Enter choice (1-10): '))\n",
    "    language_code = languages[list(languages.keys())[selected_language - 1]]\n",
    "\n",
    "    # Transliterating the input text using IndicTrans\n",
    "    output_text = transliterate(input_text, sanscript.ITRANS, sanscript.DEVANAGARI)\n",
    "\n",
    "elif selected_library == 2:\n",
    "    # Prompting user to select a language\n",
    "    print('Select a language:')\n",
    "    for i, lang in enumerate(XlitEngine.supported_languages):\n",
    "        print(f'{i + 1}. {lang}')\n",
    "\n",
    "    selected_language = int(input('Enter choice (1-10): '))\n",
    "    language_code = list(XlitEngine.supported_languages.keys())[selected_language - 1]\n",
    "\n",
    "    # Transliterating the input text using ai4bharat XlitEngine\n",
    "    t = XlitEngine(language_code)\n",
    "    output_text = t.transliterate(input_text)\n",
    "\n",
    "else:\n",
    "    print('Invalid choice')\n",
    "\n",
    "# Displaying the output text\n",
    "print('Output:', output_text)"
   ]
  },
  {
   "cell_type": "code",
   "execution_count": null,
   "metadata": {},
   "outputs": [],
   "source": []
  }
 ],
 "metadata": {
  "kernelspec": {
   "display_name": "Python 3",
   "language": "python",
   "name": "python3"
  },
  "language_info": {
   "codemirror_mode": {
    "name": "ipython",
    "version": 3
   },
   "file_extension": ".py",
   "mimetype": "text/x-python",
   "name": "python",
   "nbconvert_exporter": "python",
   "pygments_lexer": "ipython3",
   "version": "3.10.7"
  },
  "orig_nbformat": 4
 },
 "nbformat": 4,
 "nbformat_minor": 2
}
