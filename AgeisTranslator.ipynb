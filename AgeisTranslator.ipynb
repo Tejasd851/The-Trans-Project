{
 "cells": [
  {
   "cell_type": "code",
   "execution_count": 12,
   "metadata": {},
   "outputs": [],
   "source": [
    "from tkinter import *\n",
    "from tkinter import ttk\n",
    "from googletrans import Translator, LANGUAGES"
   ]
  },
  {
   "cell_type": "code",
   "execution_count": 13,
   "metadata": {},
   "outputs": [],
   "source": [
    "root = Tk()\n",
    "root.geometry('1100x320')\n",
    "root.resizable(0,0)\n",
    "root.iconbitmap(r'D:\\NLP TRANS PROJECT\\logo.ico')\n",
    "root['bg']= 'skyblue'\n",
    "root.title('Aegis Translator')\n",
    "Label(root, text = \" Aegis Language Translator\", font = \"Arial 20 bold\").pack()"
   ]
  },
  {
   "cell_type": "code",
   "execution_count": 14,
   "metadata": {},
   "outputs": [],
   "source": [
    "Label(root, text = \"Enter Text\", font = 'arial 13 bold', bg='white smoke'). place (x=165, y=90)"
   ]
  },
  {
   "cell_type": "code",
   "execution_count": 15,
   "metadata": {},
   "outputs": [],
   "source": [
    "Input_text = Entry(root, width=60)\n",
    "Input_text.place(x=30, y=130)\n",
    "text = Input_text.get()"
   ]
  },
  {
   "cell_type": "code",
   "execution_count": 16,
   "metadata": {},
   "outputs": [
    {
     "name": "stderr",
     "output_type": "stream",
     "text": [
      "Exception in Tkinter callback\n",
      "Traceback (most recent call last):\n",
      "  File \"c:\\Users\\Tejus\\AppData\\Local\\Programs\\Python\\Python310\\lib\\tkinter\\__init__.py\", line 1921, in __call__\n",
      "    return self.func(*args)\n",
      "  File \"C:\\Users\\Tejus\\AppData\\Local\\Temp\\ipykernel_8344\\3756579201.py\", line 12, in Translate\n",
      "    translated = translator.translate(text=Input_text.get(), dest=dest_lang.get())\n",
      "  File \"c:\\Users\\Tejus\\AppData\\Local\\Programs\\Python\\Python310\\lib\\site-packages\\googletrans\\client.py\", line 194, in translate\n",
      "    data, response = self._translate(text, dest, src)\n",
      "  File \"c:\\Users\\Tejus\\AppData\\Local\\Programs\\Python\\Python310\\lib\\site-packages\\googletrans\\client.py\", line 120, in _translate\n",
      "    r = self.client.post(url, params=params, data=data)\n",
      "  File \"c:\\Users\\Tejus\\AppData\\Local\\Programs\\Python\\Python310\\lib\\site-packages\\httpx\\_client.py\", line 824, in post\n",
      "    return self.request(\n",
      "  File \"c:\\Users\\Tejus\\AppData\\Local\\Programs\\Python\\Python310\\lib\\site-packages\\httpx\\_client.py\", line 600, in request\n",
      "    return self.send(\n",
      "  File \"c:\\Users\\Tejus\\AppData\\Local\\Programs\\Python\\Python310\\lib\\site-packages\\httpx\\_client.py\", line 620, in send\n",
      "    response = self.send_handling_redirects(\n",
      "  File \"c:\\Users\\Tejus\\AppData\\Local\\Programs\\Python\\Python310\\lib\\site-packages\\httpx\\_client.py\", line 647, in send_handling_redirects\n",
      "    response = self.send_handling_auth(\n",
      "  File \"c:\\Users\\Tejus\\AppData\\Local\\Programs\\Python\\Python310\\lib\\site-packages\\httpx\\_client.py\", line 684, in send_handling_auth\n",
      "    response = self.send_single_request(request, timeout)\n",
      "  File \"c:\\Users\\Tejus\\AppData\\Local\\Programs\\Python\\Python310\\lib\\site-packages\\httpx\\_client.py\", line 714, in send_single_request\n",
      "    ) = transport.request(\n",
      "  File \"c:\\Users\\Tejus\\AppData\\Local\\Programs\\Python\\Python310\\lib\\site-packages\\httpcore\\_sync\\connection_pool.py\", line 152, in request\n",
      "    response = connection.request(\n",
      "  File \"c:\\Users\\Tejus\\AppData\\Local\\Programs\\Python\\Python310\\lib\\site-packages\\httpcore\\_sync\\connection.py\", line 78, in request\n",
      "    return self.connection.request(method, url, headers, stream, timeout)\n",
      "  File \"c:\\Users\\Tejus\\AppData\\Local\\Programs\\Python\\Python310\\lib\\site-packages\\httpcore\\_sync\\http2.py\", line 118, in request\n",
      "    return h2_stream.request(method, url, headers, stream, timeout)\n",
      "  File \"c:\\Users\\Tejus\\AppData\\Local\\Programs\\Python\\Python310\\lib\\site-packages\\httpcore\\_sync\\http2.py\", line 292, in request\n",
      "    status_code, headers = self.receive_response(timeout)\n",
      "  File \"c:\\Users\\Tejus\\AppData\\Local\\Programs\\Python\\Python310\\lib\\site-packages\\httpcore\\_sync\\http2.py\", line 344, in receive_response\n",
      "    event = self.connection.wait_for_event(self.stream_id, timeout)\n",
      "  File \"c:\\Users\\Tejus\\AppData\\Local\\Programs\\Python\\Python310\\lib\\site-packages\\httpcore\\_sync\\http2.py\", line 197, in wait_for_event\n",
      "    self.receive_events(timeout)\n",
      "  File \"c:\\Users\\Tejus\\AppData\\Local\\Programs\\Python\\Python310\\lib\\site-packages\\httpcore\\_sync\\http2.py\", line 204, in receive_events\n",
      "    data = self.socket.read(self.READ_NUM_BYTES, timeout)\n",
      "  File \"c:\\Users\\Tejus\\AppData\\Local\\Programs\\Python\\Python310\\lib\\site-packages\\httpcore\\_backends\\sync.py\", line 60, in read\n",
      "    with map_exceptions(exc_map):\n",
      "  File \"c:\\Users\\Tejus\\AppData\\Local\\Programs\\Python\\Python310\\lib\\contextlib.py\", line 153, in __exit__\n",
      "    self.gen.throw(typ, value, traceback)\n",
      "  File \"c:\\Users\\Tejus\\AppData\\Local\\Programs\\Python\\Python310\\lib\\site-packages\\httpcore\\_exceptions.py\", line 12, in map_exceptions\n",
      "    raise to_exc(exc) from None\n",
      "httpcore._exceptions.ReadTimeout: The read operation timed out\n"
     ]
    }
   ],
   "source": [
    "Label(root, text=\"Output\", font='arial 13 bold', bg='white smoke').place(x=780, y=90)\n",
    "Output_text = Text(root, font='arial 10', height=5, wrap=WORD, padx=5, pady=5, width=50)\n",
    "Output_text.place(x=600, y=130)\n",
    "\n",
    "language = list(LANGUAGES.values())\n",
    "dest_lang = ttk.Combobox(root, values=language, width=22)\n",
    "dest_lang.set('choose language')\n",
    "dest_lang.place(x=130, y=180)\n",
    "\n",
    "def Translate():\n",
    "    translator = Translator()\n",
    "    translated = translator.translate(text=Input_text.get(), dest=dest_lang.get())\n",
    "    Output_text.delete(1.0, END)\n",
    "    Output_text.insert(END, translated.text)\n",
    "\n",
    "trans_btn = Button(root, text='Translate', font='arial 12 bold', pady=5, command=Translate, bg='orange', activebackground='green')\n",
    "trans_btn.place(x=445, y=180)\n",
    "\n",
    "root.mainloop()"
   ]
  },
  {
   "cell_type": "code",
   "execution_count": null,
   "metadata": {},
   "outputs": [],
   "source": []
  }
 ],
 "metadata": {
  "kernelspec": {
   "display_name": "Python 3",
   "language": "python",
   "name": "python3"
  },
  "language_info": {
   "codemirror_mode": {
    "name": "ipython",
    "version": 3
   },
   "file_extension": ".py",
   "mimetype": "text/x-python",
   "name": "python",
   "nbconvert_exporter": "python",
   "pygments_lexer": "ipython3",
   "version": "3.10.7"
  },
  "orig_nbformat": 4
 },
 "nbformat": 4,
 "nbformat_minor": 2
}
